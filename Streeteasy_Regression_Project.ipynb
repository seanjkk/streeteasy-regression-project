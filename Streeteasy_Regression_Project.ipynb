{
 "cells": [
  {
   "cell_type": "markdown",
   "metadata": {},
   "source": [
    "## StreetEasy Regression Project"
   ]
  },
  {
   "cell_type": "markdown",
   "metadata": {},
   "source": [
    "### Data source"
   ]
  },
  {
   "cell_type": "markdown",
   "metadata": {},
   "source": [
    "-  The dataset is from [Kaggle](https://www.kaggle.com/). The file can be downloaded [here](https://www.kaggle.com/datasets/zohaib30/streeteasy-dataset)."
   ]
  },
  {
   "cell_type": "markdown",
   "metadata": {},
   "source": [
    "#### Importing core data science libraries"
   ]
  },
  {
   "cell_type": "code",
   "execution_count": 1,
   "metadata": {},
   "outputs": [],
   "source": [
    "import pandas as pd\n",
    "import numpy as np\n",
    "\n",
    "import matplotlib.pyplot as plt\n",
    "%matplotlib inline\n",
    "plt.style.use('ggplot')\n",
    "\n",
    "import matplotlib\n",
    "from matplotlib.pyplot import figure\n",
    "matplotlib.rcParams['figure.figsize'] = (9,6)"
   ]
  },
  {
   "cell_type": "markdown",
   "metadata": {},
   "source": [
    "#### Importing data"
   ]
  },
  {
   "cell_type": "code",
   "execution_count": 2,
   "metadata": {},
   "outputs": [],
   "source": [
    "# Importing data form csv file to dataframe\n",
    "df = pd.read_csv('data/manhattan.csv')"
   ]
  },
  {
   "cell_type": "markdown",
   "metadata": {},
   "source": [
    "#### Data inspection and manipulation"
   ]
  },
  {
   "cell_type": "markdown",
   "metadata": {},
   "source": [
    "- Taking a look at the columns:"
   ]
  },
  {
   "cell_type": "code",
   "execution_count": 3,
   "metadata": {},
   "outputs": [
    {
     "data": {
      "text/plain": [
       "Index(['rental_id', 'rent', 'bedrooms', 'bathrooms', 'size_sqft',\n",
       "       'min_to_subway', 'floor', 'building_age_yrs', 'no_fee', 'has_roofdeck',\n",
       "       'has_washer_dryer', 'has_doorman', 'has_elevator', 'has_dishwasher',\n",
       "       'has_patio', 'has_gym', 'neighborhood', 'borough'],\n",
       "      dtype='object')"
      ]
     },
     "execution_count": 3,
     "metadata": {},
     "output_type": "execute_result"
    }
   ],
   "source": [
    "# Showing all columns\n",
    "df.columns"
   ]
  },
  {
   "cell_type": "markdown",
   "metadata": {},
   "source": [
    "- Showing the first five rows:"
   ]
  },
  {
   "cell_type": "code",
   "execution_count": 4,
   "metadata": {},
   "outputs": [
    {
     "data": {
      "text/html": [
       "<div>\n",
       "<style scoped>\n",
       "    .dataframe tbody tr th:only-of-type {\n",
       "        vertical-align: middle;\n",
       "    }\n",
       "\n",
       "    .dataframe tbody tr th {\n",
       "        vertical-align: top;\n",
       "    }\n",
       "\n",
       "    .dataframe thead th {\n",
       "        text-align: right;\n",
       "    }\n",
       "</style>\n",
       "<table border=\"1\" class=\"dataframe\">\n",
       "  <thead>\n",
       "    <tr style=\"text-align: right;\">\n",
       "      <th></th>\n",
       "      <th>rental_id</th>\n",
       "      <th>rent</th>\n",
       "      <th>bedrooms</th>\n",
       "      <th>bathrooms</th>\n",
       "      <th>size_sqft</th>\n",
       "      <th>min_to_subway</th>\n",
       "      <th>floor</th>\n",
       "      <th>building_age_yrs</th>\n",
       "      <th>no_fee</th>\n",
       "      <th>has_roofdeck</th>\n",
       "      <th>has_washer_dryer</th>\n",
       "      <th>has_doorman</th>\n",
       "      <th>has_elevator</th>\n",
       "      <th>has_dishwasher</th>\n",
       "      <th>has_patio</th>\n",
       "      <th>has_gym</th>\n",
       "      <th>neighborhood</th>\n",
       "      <th>borough</th>\n",
       "    </tr>\n",
       "  </thead>\n",
       "  <tbody>\n",
       "    <tr>\n",
       "      <th>0</th>\n",
       "      <td>1545</td>\n",
       "      <td>2550</td>\n",
       "      <td>0.0</td>\n",
       "      <td>1</td>\n",
       "      <td>480</td>\n",
       "      <td>9</td>\n",
       "      <td>2.0</td>\n",
       "      <td>17</td>\n",
       "      <td>1</td>\n",
       "      <td>1</td>\n",
       "      <td>0</td>\n",
       "      <td>0</td>\n",
       "      <td>1</td>\n",
       "      <td>1</td>\n",
       "      <td>0</td>\n",
       "      <td>1</td>\n",
       "      <td>Upper East Side</td>\n",
       "      <td>Manhattan</td>\n",
       "    </tr>\n",
       "    <tr>\n",
       "      <th>1</th>\n",
       "      <td>2472</td>\n",
       "      <td>11500</td>\n",
       "      <td>2.0</td>\n",
       "      <td>2</td>\n",
       "      <td>2000</td>\n",
       "      <td>4</td>\n",
       "      <td>1.0</td>\n",
       "      <td>96</td>\n",
       "      <td>0</td>\n",
       "      <td>0</td>\n",
       "      <td>0</td>\n",
       "      <td>0</td>\n",
       "      <td>0</td>\n",
       "      <td>0</td>\n",
       "      <td>0</td>\n",
       "      <td>0</td>\n",
       "      <td>Greenwich Village</td>\n",
       "      <td>Manhattan</td>\n",
       "    </tr>\n",
       "    <tr>\n",
       "      <th>2</th>\n",
       "      <td>2919</td>\n",
       "      <td>4500</td>\n",
       "      <td>1.0</td>\n",
       "      <td>1</td>\n",
       "      <td>916</td>\n",
       "      <td>2</td>\n",
       "      <td>51.0</td>\n",
       "      <td>29</td>\n",
       "      <td>0</td>\n",
       "      <td>1</td>\n",
       "      <td>0</td>\n",
       "      <td>1</td>\n",
       "      <td>1</td>\n",
       "      <td>1</td>\n",
       "      <td>0</td>\n",
       "      <td>0</td>\n",
       "      <td>Midtown</td>\n",
       "      <td>Manhattan</td>\n",
       "    </tr>\n",
       "    <tr>\n",
       "      <th>3</th>\n",
       "      <td>2790</td>\n",
       "      <td>4795</td>\n",
       "      <td>1.0</td>\n",
       "      <td>1</td>\n",
       "      <td>975</td>\n",
       "      <td>3</td>\n",
       "      <td>8.0</td>\n",
       "      <td>31</td>\n",
       "      <td>0</td>\n",
       "      <td>0</td>\n",
       "      <td>0</td>\n",
       "      <td>1</td>\n",
       "      <td>1</td>\n",
       "      <td>1</td>\n",
       "      <td>0</td>\n",
       "      <td>1</td>\n",
       "      <td>Greenwich Village</td>\n",
       "      <td>Manhattan</td>\n",
       "    </tr>\n",
       "    <tr>\n",
       "      <th>4</th>\n",
       "      <td>3946</td>\n",
       "      <td>17500</td>\n",
       "      <td>2.0</td>\n",
       "      <td>2</td>\n",
       "      <td>4800</td>\n",
       "      <td>3</td>\n",
       "      <td>4.0</td>\n",
       "      <td>136</td>\n",
       "      <td>0</td>\n",
       "      <td>0</td>\n",
       "      <td>0</td>\n",
       "      <td>1</td>\n",
       "      <td>1</td>\n",
       "      <td>1</td>\n",
       "      <td>0</td>\n",
       "      <td>1</td>\n",
       "      <td>Soho</td>\n",
       "      <td>Manhattan</td>\n",
       "    </tr>\n",
       "  </tbody>\n",
       "</table>\n",
       "</div>"
      ],
      "text/plain": [
       "   rental_id   rent  bedrooms  bathrooms  size_sqft  min_to_subway  floor  \\\n",
       "0       1545   2550       0.0          1        480              9    2.0   \n",
       "1       2472  11500       2.0          2       2000              4    1.0   \n",
       "2       2919   4500       1.0          1        916              2   51.0   \n",
       "3       2790   4795       1.0          1        975              3    8.0   \n",
       "4       3946  17500       2.0          2       4800              3    4.0   \n",
       "\n",
       "   building_age_yrs  no_fee  has_roofdeck  has_washer_dryer  has_doorman  \\\n",
       "0                17       1             1                 0            0   \n",
       "1                96       0             0                 0            0   \n",
       "2                29       0             1                 0            1   \n",
       "3                31       0             0                 0            1   \n",
       "4               136       0             0                 0            1   \n",
       "\n",
       "   has_elevator  has_dishwasher  has_patio  has_gym       neighborhood  \\\n",
       "0             1               1          0        1    Upper East Side   \n",
       "1             0               0          0        0  Greenwich Village   \n",
       "2             1               1          0        0            Midtown   \n",
       "3             1               1          0        1  Greenwich Village   \n",
       "4             1               1          0        1               Soho   \n",
       "\n",
       "     borough  \n",
       "0  Manhattan  \n",
       "1  Manhattan  \n",
       "2  Manhattan  \n",
       "3  Manhattan  \n",
       "4  Manhattan  "
      ]
     },
     "execution_count": 4,
     "metadata": {},
     "output_type": "execute_result"
    }
   ],
   "source": [
    "df.head()"
   ]
  },
  {
   "cell_type": "markdown",
   "metadata": {},
   "source": [
    "- Checking if there are null values:"
   ]
  },
  {
   "cell_type": "code",
   "execution_count": 5,
   "metadata": {},
   "outputs": [
    {
     "data": {
      "text/plain": [
       "rental_id           0\n",
       "rent                0\n",
       "bedrooms            0\n",
       "bathrooms           0\n",
       "size_sqft           0\n",
       "min_to_subway       0\n",
       "floor               0\n",
       "building_age_yrs    0\n",
       "no_fee              0\n",
       "has_roofdeck        0\n",
       "has_washer_dryer    0\n",
       "has_doorman         0\n",
       "has_elevator        0\n",
       "has_dishwasher      0\n",
       "has_patio           0\n",
       "has_gym             0\n",
       "neighborhood        0\n",
       "borough             0\n",
       "dtype: int64"
      ]
     },
     "execution_count": 5,
     "metadata": {},
     "output_type": "execute_result"
    }
   ],
   "source": [
    "df.isna().sum()"
   ]
  },
  {
   "cell_type": "markdown",
   "metadata": {},
   "source": [
    "- Filtering out unneeded columns:"
   ]
  },
  {
   "cell_type": "code",
   "execution_count": 6,
   "metadata": {},
   "outputs": [],
   "source": [
    "df = df[['rent', 'bedrooms', 'bathrooms', 'size_sqft', 'neighborhood']]"
   ]
  },
  {
   "cell_type": "markdown",
   "metadata": {},
   "source": [
    "- Showing mean values sorted by neighborhood:"
   ]
  },
  {
   "cell_type": "code",
   "execution_count": 7,
   "metadata": {},
   "outputs": [
    {
     "data": {
      "text/html": [
       "<div>\n",
       "<style scoped>\n",
       "    .dataframe tbody tr th:only-of-type {\n",
       "        vertical-align: middle;\n",
       "    }\n",
       "\n",
       "    .dataframe tbody tr th {\n",
       "        vertical-align: top;\n",
       "    }\n",
       "\n",
       "    .dataframe thead th {\n",
       "        text-align: right;\n",
       "    }\n",
       "</style>\n",
       "<table border=\"1\" class=\"dataframe\">\n",
       "  <thead>\n",
       "    <tr style=\"text-align: right;\">\n",
       "      <th></th>\n",
       "      <th>rent</th>\n",
       "      <th>bedrooms</th>\n",
       "      <th>bathrooms</th>\n",
       "      <th>size_sqft</th>\n",
       "    </tr>\n",
       "    <tr>\n",
       "      <th>neighborhood</th>\n",
       "      <th></th>\n",
       "      <th></th>\n",
       "      <th></th>\n",
       "      <th></th>\n",
       "    </tr>\n",
       "  </thead>\n",
       "  <tbody>\n",
       "    <tr>\n",
       "      <th>Battery Park City</th>\n",
       "      <td>5968.961538</td>\n",
       "      <td>1.500000</td>\n",
       "      <td>1.576923</td>\n",
       "      <td>1018.538462</td>\n",
       "    </tr>\n",
       "    <tr>\n",
       "      <th>Central Harlem</th>\n",
       "      <td>2963.926829</td>\n",
       "      <td>1.615854</td>\n",
       "      <td>1.317073</td>\n",
       "      <td>915.146341</td>\n",
       "    </tr>\n",
       "    <tr>\n",
       "      <th>Central Park South</th>\n",
       "      <td>7506.956522</td>\n",
       "      <td>1.543478</td>\n",
       "      <td>1.652174</td>\n",
       "      <td>1173.304348</td>\n",
       "    </tr>\n",
       "    <tr>\n",
       "      <th>Chelsea</th>\n",
       "      <td>6193.483516</td>\n",
       "      <td>1.250000</td>\n",
       "      <td>1.412088</td>\n",
       "      <td>968.912088</td>\n",
       "    </tr>\n",
       "    <tr>\n",
       "      <th>Chinatown</th>\n",
       "      <td>2955.625000</td>\n",
       "      <td>1.125000</td>\n",
       "      <td>1.000000</td>\n",
       "      <td>635.375000</td>\n",
       "    </tr>\n",
       "    <tr>\n",
       "      <th>East Harlem</th>\n",
       "      <td>2502.000000</td>\n",
       "      <td>1.524390</td>\n",
       "      <td>1.073171</td>\n",
       "      <td>768.512195</td>\n",
       "    </tr>\n",
       "    <tr>\n",
       "      <th>East Village</th>\n",
       "      <td>4304.361111</td>\n",
       "      <td>1.157407</td>\n",
       "      <td>1.148148</td>\n",
       "      <td>768.037037</td>\n",
       "    </tr>\n",
       "    <tr>\n",
       "      <th>Financial District</th>\n",
       "      <td>4263.925373</td>\n",
       "      <td>0.938433</td>\n",
       "      <td>1.246269</td>\n",
       "      <td>831.160448</td>\n",
       "    </tr>\n",
       "    <tr>\n",
       "      <th>Flatiron</th>\n",
       "      <td>6120.174242</td>\n",
       "      <td>1.193182</td>\n",
       "      <td>1.371212</td>\n",
       "      <td>915.560606</td>\n",
       "    </tr>\n",
       "    <tr>\n",
       "      <th>Gramercy Park</th>\n",
       "      <td>5065.131148</td>\n",
       "      <td>1.213115</td>\n",
       "      <td>1.295082</td>\n",
       "      <td>828.213115</td>\n",
       "    </tr>\n",
       "    <tr>\n",
       "      <th>Greenwich Village</th>\n",
       "      <td>5471.424242</td>\n",
       "      <td>0.893939</td>\n",
       "      <td>1.196970</td>\n",
       "      <td>922.075758</td>\n",
       "    </tr>\n",
       "    <tr>\n",
       "      <th>Hamilton Heights</th>\n",
       "      <td>2284.000000</td>\n",
       "      <td>1.375000</td>\n",
       "      <td>1.125000</td>\n",
       "      <td>783.187500</td>\n",
       "    </tr>\n",
       "    <tr>\n",
       "      <th>Inwood</th>\n",
       "      <td>2218.333333</td>\n",
       "      <td>1.500000</td>\n",
       "      <td>1.250000</td>\n",
       "      <td>849.166667</td>\n",
       "    </tr>\n",
       "    <tr>\n",
       "      <th>Little Italy</th>\n",
       "      <td>2248.000000</td>\n",
       "      <td>0.333333</td>\n",
       "      <td>1.000000</td>\n",
       "      <td>433.333333</td>\n",
       "    </tr>\n",
       "    <tr>\n",
       "      <th>Long Island City</th>\n",
       "      <td>2957.000000</td>\n",
       "      <td>0.750000</td>\n",
       "      <td>1.000000</td>\n",
       "      <td>700.000000</td>\n",
       "    </tr>\n",
       "    <tr>\n",
       "      <th>Lower East Side</th>\n",
       "      <td>4785.170732</td>\n",
       "      <td>1.585366</td>\n",
       "      <td>1.365854</td>\n",
       "      <td>974.414634</td>\n",
       "    </tr>\n",
       "    <tr>\n",
       "      <th>Manhattanville</th>\n",
       "      <td>1395.000000</td>\n",
       "      <td>1.000000</td>\n",
       "      <td>1.000000</td>\n",
       "      <td>500.000000</td>\n",
       "    </tr>\n",
       "    <tr>\n",
       "      <th>Midtown</th>\n",
       "      <td>5930.672269</td>\n",
       "      <td>1.273109</td>\n",
       "      <td>1.361345</td>\n",
       "      <td>1049.126050</td>\n",
       "    </tr>\n",
       "    <tr>\n",
       "      <th>Midtown East</th>\n",
       "      <td>4703.697826</td>\n",
       "      <td>1.286957</td>\n",
       "      <td>1.306522</td>\n",
       "      <td>896.676087</td>\n",
       "    </tr>\n",
       "    <tr>\n",
       "      <th>Midtown South</th>\n",
       "      <td>4556.364706</td>\n",
       "      <td>1.082353</td>\n",
       "      <td>1.235294</td>\n",
       "      <td>822.058824</td>\n",
       "    </tr>\n",
       "    <tr>\n",
       "      <th>Midtown West</th>\n",
       "      <td>4125.996815</td>\n",
       "      <td>1.151274</td>\n",
       "      <td>1.203822</td>\n",
       "      <td>769.000000</td>\n",
       "    </tr>\n",
       "    <tr>\n",
       "      <th>Morningside Heights</th>\n",
       "      <td>3840.384615</td>\n",
       "      <td>2.000000</td>\n",
       "      <td>1.230769</td>\n",
       "      <td>988.461538</td>\n",
       "    </tr>\n",
       "    <tr>\n",
       "      <th>Nolita</th>\n",
       "      <td>6687.222222</td>\n",
       "      <td>2.000000</td>\n",
       "      <td>1.555556</td>\n",
       "      <td>1122.333333</td>\n",
       "    </tr>\n",
       "    <tr>\n",
       "      <th>Roosevelt Island</th>\n",
       "      <td>3259.000000</td>\n",
       "      <td>1.100000</td>\n",
       "      <td>1.200000</td>\n",
       "      <td>797.800000</td>\n",
       "    </tr>\n",
       "    <tr>\n",
       "      <th>Soho</th>\n",
       "      <td>8467.655172</td>\n",
       "      <td>1.758621</td>\n",
       "      <td>1.603448</td>\n",
       "      <td>1396.844828</td>\n",
       "    </tr>\n",
       "    <tr>\n",
       "      <th>Stuyvesant Town/PCV</th>\n",
       "      <td>3847.000000</td>\n",
       "      <td>1.000000</td>\n",
       "      <td>1.000000</td>\n",
       "      <td>786.333333</td>\n",
       "    </tr>\n",
       "    <tr>\n",
       "      <th>Tribeca</th>\n",
       "      <td>7975.260504</td>\n",
       "      <td>1.546218</td>\n",
       "      <td>1.672269</td>\n",
       "      <td>1324.176471</td>\n",
       "    </tr>\n",
       "    <tr>\n",
       "      <th>Upper East Side</th>\n",
       "      <td>5519.004000</td>\n",
       "      <td>1.551000</td>\n",
       "      <td>1.508000</td>\n",
       "      <td>1017.698000</td>\n",
       "    </tr>\n",
       "    <tr>\n",
       "      <th>Upper West Side</th>\n",
       "      <td>5354.050086</td>\n",
       "      <td>1.525907</td>\n",
       "      <td>1.447323</td>\n",
       "      <td>974.996546</td>\n",
       "    </tr>\n",
       "    <tr>\n",
       "      <th>Washington Heights</th>\n",
       "      <td>2539.333333</td>\n",
       "      <td>1.962963</td>\n",
       "      <td>1.277778</td>\n",
       "      <td>941.240741</td>\n",
       "    </tr>\n",
       "    <tr>\n",
       "      <th>West Harlem</th>\n",
       "      <td>2406.000000</td>\n",
       "      <td>2.500000</td>\n",
       "      <td>1.000000</td>\n",
       "      <td>800.000000</td>\n",
       "    </tr>\n",
       "    <tr>\n",
       "      <th>West Village</th>\n",
       "      <td>5970.970149</td>\n",
       "      <td>1.179104</td>\n",
       "      <td>1.253731</td>\n",
       "      <td>854.507463</td>\n",
       "    </tr>\n",
       "  </tbody>\n",
       "</table>\n",
       "</div>"
      ],
      "text/plain": [
       "                            rent  bedrooms  bathrooms    size_sqft\n",
       "neighborhood                                                      \n",
       "Battery Park City    5968.961538  1.500000   1.576923  1018.538462\n",
       "Central Harlem       2963.926829  1.615854   1.317073   915.146341\n",
       "Central Park South   7506.956522  1.543478   1.652174  1173.304348\n",
       "Chelsea              6193.483516  1.250000   1.412088   968.912088\n",
       "Chinatown            2955.625000  1.125000   1.000000   635.375000\n",
       "East Harlem          2502.000000  1.524390   1.073171   768.512195\n",
       "East Village         4304.361111  1.157407   1.148148   768.037037\n",
       "Financial District   4263.925373  0.938433   1.246269   831.160448\n",
       "Flatiron             6120.174242  1.193182   1.371212   915.560606\n",
       "Gramercy Park        5065.131148  1.213115   1.295082   828.213115\n",
       "Greenwich Village    5471.424242  0.893939   1.196970   922.075758\n",
       "Hamilton Heights     2284.000000  1.375000   1.125000   783.187500\n",
       "Inwood               2218.333333  1.500000   1.250000   849.166667\n",
       "Little Italy         2248.000000  0.333333   1.000000   433.333333\n",
       "Long Island City     2957.000000  0.750000   1.000000   700.000000\n",
       "Lower East Side      4785.170732  1.585366   1.365854   974.414634\n",
       "Manhattanville       1395.000000  1.000000   1.000000   500.000000\n",
       "Midtown              5930.672269  1.273109   1.361345  1049.126050\n",
       "Midtown East         4703.697826  1.286957   1.306522   896.676087\n",
       "Midtown South        4556.364706  1.082353   1.235294   822.058824\n",
       "Midtown West         4125.996815  1.151274   1.203822   769.000000\n",
       "Morningside Heights  3840.384615  2.000000   1.230769   988.461538\n",
       "Nolita               6687.222222  2.000000   1.555556  1122.333333\n",
       "Roosevelt Island     3259.000000  1.100000   1.200000   797.800000\n",
       "Soho                 8467.655172  1.758621   1.603448  1396.844828\n",
       "Stuyvesant Town/PCV  3847.000000  1.000000   1.000000   786.333333\n",
       "Tribeca              7975.260504  1.546218   1.672269  1324.176471\n",
       "Upper East Side      5519.004000  1.551000   1.508000  1017.698000\n",
       "Upper West Side      5354.050086  1.525907   1.447323   974.996546\n",
       "Washington Heights   2539.333333  1.962963   1.277778   941.240741\n",
       "West Harlem          2406.000000  2.500000   1.000000   800.000000\n",
       "West Village         5970.970149  1.179104   1.253731   854.507463"
      ]
     },
     "execution_count": 7,
     "metadata": {},
     "output_type": "execute_result"
    }
   ],
   "source": [
    "df.groupby(['neighborhood']).mean()"
   ]
  },
  {
   "cell_type": "markdown",
   "metadata": {},
   "source": [
    "### Multiple Linear Regression Model"
   ]
  },
  {
   "cell_type": "markdown",
   "metadata": {},
   "source": [
    "I want to move into a new rental unit in Midtown East. Let's use a multiple linear regression model to predict the rent price. "
   ]
  },
  {
   "cell_type": "markdown",
   "metadata": {},
   "source": [
    "- Creating a new dataframe with rental units only in Midtown East:"
   ]
  },
  {
   "cell_type": "code",
   "execution_count": 8,
   "metadata": {},
   "outputs": [
    {
     "data": {
      "text/plain": [
       "(460, 5)"
      ]
     },
     "execution_count": 8,
     "metadata": {},
     "output_type": "execute_result"
    }
   ],
   "source": [
    "midtowneast = df[df['neighborhood'] == 'Midtown East']\n",
    "\n",
    "midtowneast.shape"
   ]
  },
  {
   "cell_type": "markdown",
   "metadata": {},
   "source": [
    "- A quick summary of our Midtown East dataframe:"
   ]
  },
  {
   "cell_type": "code",
   "execution_count": 9,
   "metadata": {},
   "outputs": [
    {
     "data": {
      "text/html": [
       "<div>\n",
       "<style scoped>\n",
       "    .dataframe tbody tr th:only-of-type {\n",
       "        vertical-align: middle;\n",
       "    }\n",
       "\n",
       "    .dataframe tbody tr th {\n",
       "        vertical-align: top;\n",
       "    }\n",
       "\n",
       "    .dataframe thead th {\n",
       "        text-align: right;\n",
       "    }\n",
       "</style>\n",
       "<table border=\"1\" class=\"dataframe\">\n",
       "  <thead>\n",
       "    <tr style=\"text-align: right;\">\n",
       "      <th></th>\n",
       "      <th>rent</th>\n",
       "      <th>bedrooms</th>\n",
       "      <th>bathrooms</th>\n",
       "      <th>size_sqft</th>\n",
       "    </tr>\n",
       "  </thead>\n",
       "  <tbody>\n",
       "    <tr>\n",
       "      <th>count</th>\n",
       "      <td>460.000000</td>\n",
       "      <td>460.000000</td>\n",
       "      <td>460.000000</td>\n",
       "      <td>460.000000</td>\n",
       "    </tr>\n",
       "    <tr>\n",
       "      <th>mean</th>\n",
       "      <td>4703.697826</td>\n",
       "      <td>1.286957</td>\n",
       "      <td>1.306522</td>\n",
       "      <td>896.676087</td>\n",
       "    </tr>\n",
       "    <tr>\n",
       "      <th>std</th>\n",
       "      <td>2751.957588</td>\n",
       "      <td>0.917776</td>\n",
       "      <td>0.551845</td>\n",
       "      <td>439.851432</td>\n",
       "    </tr>\n",
       "    <tr>\n",
       "      <th>min</th>\n",
       "      <td>1650.000000</td>\n",
       "      <td>0.000000</td>\n",
       "      <td>0.000000</td>\n",
       "      <td>265.000000</td>\n",
       "    </tr>\n",
       "    <tr>\n",
       "      <th>25%</th>\n",
       "      <td>3000.000000</td>\n",
       "      <td>1.000000</td>\n",
       "      <td>1.000000</td>\n",
       "      <td>600.000000</td>\n",
       "    </tr>\n",
       "    <tr>\n",
       "      <th>50%</th>\n",
       "      <td>3897.500000</td>\n",
       "      <td>1.000000</td>\n",
       "      <td>1.000000</td>\n",
       "      <td>764.000000</td>\n",
       "    </tr>\n",
       "    <tr>\n",
       "      <th>75%</th>\n",
       "      <td>5487.500000</td>\n",
       "      <td>2.000000</td>\n",
       "      <td>2.000000</td>\n",
       "      <td>1070.250000</td>\n",
       "    </tr>\n",
       "    <tr>\n",
       "      <th>max</th>\n",
       "      <td>20000.000000</td>\n",
       "      <td>4.000000</td>\n",
       "      <td>3.000000</td>\n",
       "      <td>3016.000000</td>\n",
       "    </tr>\n",
       "  </tbody>\n",
       "</table>\n",
       "</div>"
      ],
      "text/plain": [
       "               rent    bedrooms   bathrooms    size_sqft\n",
       "count    460.000000  460.000000  460.000000   460.000000\n",
       "mean    4703.697826    1.286957    1.306522   896.676087\n",
       "std     2751.957588    0.917776    0.551845   439.851432\n",
       "min     1650.000000    0.000000    0.000000   265.000000\n",
       "25%     3000.000000    1.000000    1.000000   600.000000\n",
       "50%     3897.500000    1.000000    1.000000   764.000000\n",
       "75%     5487.500000    2.000000    2.000000  1070.250000\n",
       "max    20000.000000    4.000000    3.000000  3016.000000"
      ]
     },
     "execution_count": 9,
     "metadata": {},
     "output_type": "execute_result"
    }
   ],
   "source": [
    "midtowneast.describe()"
   ]
  },
  {
   "cell_type": "markdown",
   "metadata": {},
   "source": [
    "Our variables:\n",
    "- x variables will be the number of bedrooms, number of bathrooms and size in square feet\n",
    "- y variable (target variable) will be the rent price "
   ]
  },
  {
   "cell_type": "code",
   "execution_count": 10,
   "metadata": {},
   "outputs": [],
   "source": [
    "x = midtowneast[['bedrooms', 'bathrooms', 'size_sqft']]\n",
    "\n",
    "y = midtowneast[['rent']]"
   ]
  },
  {
   "cell_type": "markdown",
   "metadata": {},
   "source": [
    "- Using Scikit-Learn's train_test_split module to split the data. I will use 80% for training and 20% for testing."
   ]
  },
  {
   "cell_type": "code",
   "execution_count": 11,
   "metadata": {},
   "outputs": [],
   "source": [
    "from sklearn.model_selection import train_test_split\n",
    "\n",
    "x_train, x_test, y_train, y_test = train_test_split(x, y, test_size = 0.2, random_state=3)"
   ]
  },
  {
   "cell_type": "markdown",
   "metadata": {},
   "source": [
    "- Creating the Multiple Linear Regression Model:"
   ]
  },
  {
   "cell_type": "code",
   "execution_count": 12,
   "metadata": {},
   "outputs": [
    {
     "data": {
      "text/plain": [
       "LinearRegression()"
      ]
     },
     "execution_count": 12,
     "metadata": {},
     "output_type": "execute_result"
    }
   ],
   "source": [
    "from sklearn.linear_model import LinearRegression\n",
    "\n",
    "reg = LinearRegression(fit_intercept = True)\n",
    "\n",
    "# Training the model on training set\n",
    "reg.fit(x_train, y_train)"
   ]
  },
  {
   "cell_type": "markdown",
   "metadata": {},
   "source": [
    "We have created our model. Let's test the accuracy."
   ]
  },
  {
   "cell_type": "markdown",
   "metadata": {},
   "source": [
    "- Checking the test score:"
   ]
  },
  {
   "cell_type": "code",
   "execution_count": 13,
   "metadata": {},
   "outputs": [
    {
     "name": "stdout",
     "output_type": "stream",
     "text": [
      "0.8144342041864534\n"
     ]
    }
   ],
   "source": [
    "score = reg.score(x_test, y_test)\n",
    "print(score)"
   ]
  },
  {
   "cell_type": "markdown",
   "metadata": {},
   "source": [
    "- Creating the y prediction variable from x test set:"
   ]
  },
  {
   "cell_type": "code",
   "execution_count": 14,
   "metadata": {},
   "outputs": [],
   "source": [
    "y_predict = reg.predict(x_test)"
   ]
  },
  {
   "cell_type": "markdown",
   "metadata": {},
   "source": [
    "- Creating a scatter plot of the prediction values on test values using Matplotlib:"
   ]
  },
  {
   "cell_type": "code",
   "execution_count": 15,
   "metadata": {},
   "outputs": [
    {
     "data": {
      "image/png": "[encoded data removed]",
      "text/plain": [
       "<Figure size 648x432 with 1 Axes>"
      ]
     },
     "metadata": {},
     "output_type": "display_data"
    }
   ],
   "source": [
    "plt.scatter(y_test, y_predict, alpha = 0.7)\n",
    "plt.xlabel('Test')\n",
    "plt.ylabel('Y_predict')\n",
    "plt.title('Multiple Linear Regression Graph')\n",
    "\n",
    "plt.show()"
   ]
  },
  {
   "cell_type": "markdown",
   "metadata": {},
   "source": [
    "- Creating a residuals variable:"
   ]
  },
  {
   "cell_type": "code",
   "execution_count": 16,
   "metadata": {},
   "outputs": [],
   "source": [
    "residual = y_test - y_predict"
   ]
  },
  {
   "cell_type": "markdown",
   "metadata": {},
   "source": [
    "- Creating a scatter plot of residuals on Y_predict values using Matplotlib:"
   ]
  },
  {
   "cell_type": "code",
   "execution_count": 17,
   "metadata": {},
   "outputs": [
    {
     "data": {
      "image/png": "[encoded data removed]",
      "text/plain": [
       "<Figure size 648x432 with 1 Axes>"
      ]
     },
     "metadata": {},
     "output_type": "display_data"
    }
   ],
   "source": [
    "plt.scatter(y_predict, residual, alpha = 0.7)\n",
    "plt.xlabel('Y_predict')\n",
    "plt.ylabel('Residuals')\n",
    "plt.title('Residual Graph')\n",
    "\n",
    "plt.show()"
   ]
  },
  {
   "cell_type": "markdown",
   "metadata": {},
   "source": [
    "#### Predicting rent price using our models"
   ]
  },
  {
   "cell_type": "markdown",
   "metadata": {},
   "source": [
    "- Prediction for a 1 bedroom, 1 bathroom, 600 sqft unit:"
   ]
  },
  {
   "cell_type": "code",
   "execution_count": 18,
   "metadata": {},
   "outputs": [
    {
     "name": "stdout",
     "output_type": "stream",
     "text": [
      "[[2897.84521083]]\n"
     ]
    }
   ],
   "source": [
    "print(reg.predict([[1, 1, 600]]))"
   ]
  },
  {
   "cell_type": "markdown",
   "metadata": {},
   "source": [
    "- Prediction for a 2 bedroom, 2 bathroom, 800 sqft unit:"
   ]
  },
  {
   "cell_type": "code",
   "execution_count": 19,
   "metadata": {},
   "outputs": [
    {
     "name": "stdout",
     "output_type": "stream",
     "text": [
      "[[4193.34099056]]\n"
     ]
    }
   ],
   "source": [
    "print(reg.predict([[2, 2, 800]]))"
   ]
  }
 ],
 "metadata": {
  "interpreter": {
   "hash": "b2f92fdc2257fdadb8fffbe17b2c1852e8cadaa28df7b4a0b24b629d3a8ae277"
  },
  "kernelspec": {
   "display_name": "Python 3.8.8 ('base')",
   "language": "python",
   "name": "python3"
  },
  "language_info": {
   "codemirror_mode": {
    "name": "ipython",
    "version": 3
   },
   "file_extension": ".py",
   "mimetype": "text/x-python",
   "name": "python",
   "nbconvert_exporter": "python",
   "pygments_lexer": "ipython3",
   "version": "3.8.8"
  },
  "orig_nbformat": 4
 },
 "nbformat": 4,
 "nbformat_minor": 2
}
